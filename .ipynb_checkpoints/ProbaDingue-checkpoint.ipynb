{
 "cells": [
  {
   "cell_type": "markdown",
   "metadata": {},
   "source": [
    "# ProbaDingue : Using Probability to Trade"
   ]
  },
  {
   "cell_type": "code",
   "execution_count": null,
   "metadata": {},
   "outputs": [],
   "source": [
    "import numpy as np\n",
    "import scipy.stats as sc\n",
    "import matplotlib.pyplot as plt"
   ]
  },
  {
   "cell_type": "markdown",
   "metadata": {},
   "source": [
    "This note book constitutes a first approach to trading with probabilities. I will first try to develop a model based on the normal distribution before testing it against observable data. I will also try to make it a easy as possible to transition to more general distributions. \n",
    "\n",
    "Let's first get familiar with some functions from scipy, which offers a much broader number of functions that numpy.\n"
   ]
  },
  {
   "cell_type": "code",
   "execution_count": 28,
   "metadata": {},
   "outputs": [
    {
     "data": {
      "text/plain": [
       "[<matplotlib.lines.Line2D at 0x26b372d0e88>]"
      ]
     },
     "execution_count": 28,
     "metadata": {},
     "output_type": "execute_result"
    },
    {
     "data": {
      "image/png": "[encoded data removed]",
      "text/plain": [
       "<Figure size 432x288 with 1 Axes>"
      ]
     },
     "metadata": {
      "needs_background": "light"
     },
     "output_type": "display_data"
    }
   ],
   "source": [
    "mu = 0\n",
    "std = 1\n",
    "n = 1000\n",
    "\n",
    "x = np.linspace(sc.norm.ppf(0.001), sc.norm.ppf(0.999), 100)\n",
    "\n",
    "rnd_sample_normal = sc.norm.rvs(size=n)\n",
    "\n",
    "fig, ax = plt.subplots(1,1,figsize=(6, 4))\n",
    "ax.hist(rnd_sample_normal, bins=100, density=True)\n",
    "ax.plot(x, sc.norm.pdf(x), 'r', lw=4)"
   ]
  },
  {
   "cell_type": "markdown",
   "metadata": {},
   "source": [
    "The basic idea of building a trading strategy with probabilities lies on the fact that we assume each log returns of the price to follow a particular distribution. We begin with the normal distribution to construct the foundations of the model before applying it to more reasonable distribution i.e. student distribution. The aim will be to characterize the dependence between those random variables and try understand the underlying dynamics of the log returns. In order to understand those dynamics we will make some simulation with some well-known model namely AR, and MA model with and without ARCH or GARCH components. we will compare those simulations with observable data and improve the model by analysing the descrepancies."
   ]
  },
  {
   "cell_type": "markdown",
   "metadata": {},
   "source": [
    "## The basic idea"
   ]
  },
  {
   "cell_type": "markdown",
   "metadata": {},
   "source": [
    "Let $X_{t} \\sim \\mathcal{N}(\\mu, \\sigma^2)$ be a random variable representing the log return of a price. We will first assume $\\mu = 0$ without loss of generality. From that random variable we define another random variable $S_t$ namely the sum of the next $N$ log returns from time $t$ and onwards. This r.v. is defined as follows, "
   ]
  },
  {
   "cell_type": "markdown",
   "metadata": {},
   "source": [
    "$$ S_t = \\sum\\limits_{n=0}^{N-1} X_{t+n} $$"
   ]
  },
  {
   "cell_type": "markdown",
   "metadata": {},
   "source": [
    "If we assume $X_t$ to be independent through time, then the distribution of $S_t$ would straightforwardly be $\\mathcal{N}(0, \\sum_{n=0}^{N-1} \\sigma^2)$"
   ]
  },
  {
   "cell_type": "markdown",
   "metadata": {},
   "source": [
    "However, we know from empirical evidence that $X_t$ is not independent through time, if it is not through the first moment (mean) it can be through the second moment (variance) — i.e. log returns may not be correlated (AR model) but the squared log return may be (ARCH model)."
   ]
  },
  {
   "cell_type": "markdown",
   "metadata": {},
   "source": [
    "In full generality, we first don't assume any functional form on the dependence of the $X_t$. For instance, if we create a random vector with $N$ elements $X_t$, we obtain"
   ]
  },
  {
   "cell_type": "markdown",
   "metadata": {},
   "source": [
    "$$ X_{N} = (X_0, \\cdots, X_{t+N-1})^{\\top} \\sim \\mathcal{N}_N (0, \\Sigma_X)$$"
   ]
  },
  {
   "cell_type": "markdown",
   "metadata": {},
   "source": [
    "This vector follows a multivariate normal distribution, which is fully characterized by its mean and covariance structure. This allows us to take into account the dependence between different time of the random variable $X_t$."
   ]
  },
  {
   "cell_type": "markdown",
   "metadata": {},
   "source": [
    "Given the dependence structure, we can redefine the random variable $S_t$ to follow the normal distribution $\\mathcal{N}(0, \\sum_{n=0}^{N-1}\\sum_{m}^{N-1}\\sigma_{n,m})$ where $\\sigma_{n,m}$ is the $(n,m)$ element of the covariance matrix $\\Sigma_X$. Note that the element on the diagonal — i.e. $n=m$, is the variance."
   ]
  },
  {
   "cell_type": "markdown",
   "metadata": {},
   "source": [
    "I believe that defining such a random variable $S_t$ is key for constructing a trading strategy since it allows to another important random variable $Y_t$ defined as follows, "
   ]
  },
  {
   "cell_type": "markdown",
   "metadata": {},
   "source": [
    "$$ Y_t = \\mathbb{1}_{S_t \\geq \\alpha} $$"
   ]
  },
  {
   "cell_type": "markdown",
   "metadata": {},
   "source": [
    "where $\\mathbb{1}_A$ is the indicator function that takes value $1$ if the event A is true and $0$ otherwise, $\\alpha$ is a given threshold."
   ]
  },
  {
   "cell_type": "markdown",
   "metadata": {},
   "source": [
    "This r.v. $Y_t$ allows us to define when we should open a position and when we should not. In other words, when the sum of the next $N$ log return is above a given threshold, we should buy the underlying asset since its price will increase in the next $N$ periods compared to now.\n"
   ]
  },
  {
   "cell_type": "markdown",
   "metadata": {},
   "source": [
    "We can also obtain the probability that the price will increase in the next $N$ periods :"
   ]
  },
  {
   "cell_type": "markdown",
   "metadata": {},
   "source": [
    "\\begin{align} \n",
    "    \\mathbb{P}(Y_t = 1) := \\mathbb{E}(Y_t) &= \\mathbb{E}(\\mathbb{1}_{S_t \\geq \\alpha})\\\\\n",
    "                                           &=  \\mathbb{P}(S_t \\geq \\alpha) \\\\\n",
    "                                           &= \\mathbb{P}(\\sum\\limits_{n=0}^{N-1} X_{t+n} \\geq \\alpha)\n",
    "\\end{align}"
   ]
  },
  {
   "cell_type": "markdown",
   "metadata": {},
   "source": [
    "# Example with Moving Average model"
   ]
  },
  {
   "cell_type": "markdown",
   "metadata": {},
   "source": [
    "Let's know consider the random variable $X_t$ to follow a MA model. For simplicity we assume the MA to be of order 1."
   ]
  },
  {
   "cell_type": "markdown",
   "metadata": {},
   "source": [
    "\\begin{align}\n",
    "    X_t = \\epsilon_t + \\theta \\epsilon_{t-1} && \\text{ where } \\epsilon_t \\sim GWN(0, \\sigma_\\epsilon^2)\n",
    "\\end{align}"
   ]
  },
  {
   "cell_type": "markdown",
   "metadata": {},
   "source": [
    "The covariance structure between successive random variables is as follows :"
   ]
  },
  {
   "cell_type": "markdown",
   "metadata": {},
   "source": [
    "\\begin{align}\n",
    "    \\mathbb{C}ov(X_t, X_{t+n}) = \n",
    "        \\begin{cases}\n",
    "            (1 + \\theta^2) \\sigma_\\epsilon^2 & \\text{ if } n = 0\\\\\n",
    "            \\theta \\sigma_\\epsilon^2 & \\text{ if } n = 1\\\\\n",
    "            0 & \\text{ otherwise }\n",
    "        \\end{cases}\n",
    "\\end{align}"
   ]
  },
  {
   "cell_type": "markdown",
   "metadata": {},
   "source": [
    "We thus get a more precise characterization of $S_t \\sim \\mathcal{N}\\Big(0, \\sigma_\\epsilon^2 \\big[ N\\theta^2 + 2(N-1)\\theta + N \\big]\\Big)$"
   ]
  },
  {
   "cell_type": "markdown",
   "metadata": {},
   "source": []
  }
 ],
 "metadata": {
  "kernelspec": {
   "display_name": "Python 3",
   "language": "python",
   "name": "python3"
  },
  "language_info": {
   "codemirror_mode": {
    "name": "ipython",
    "version": 3
   },
   "file_extension": ".py",
   "mimetype": "text/x-python",
   "name": "python",
   "nbconvert_exporter": "python",
   "pygments_lexer": "ipython3",
   "version": "3.7.6"
  }
 },
 "nbformat": 4,
 "nbformat_minor": 4
}
