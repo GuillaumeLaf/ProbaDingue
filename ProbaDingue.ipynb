{
 "cells": [
  {
   "cell_type": "markdown",
   "metadata": {},
   "source": [
    "# ProbaDingue : Using Probability to Trade"
   ]
  },
  {
   "cell_type": "code",
   "execution_count": 1,
   "metadata": {},
   "outputs": [],
   "source": [
    "import numpy as np\n",
    "import scipy.stats as sc\n",
    "import matplotlib.pyplot as plt\n",
    "import numba as nb"
   ]
  },
  {
   "cell_type": "markdown",
   "metadata": {},
   "source": [
    "This note book constitutes a first approach to trading with probabilities. I will first try to develop a model based on the normal distribution before testing it against observable data. I will also try to make it a easy as possible to transition to more general distributions. \n",
    "\n",
    "Let's first get familiar with some functions from scipy, which offers a much broader number of functions that numpy.\n"
   ]
  },
  {
   "cell_type": "code",
   "execution_count": 2,
   "metadata": {},
   "outputs": [
    {
     "data": {
      "text/plain": [
       "[<matplotlib.lines.Line2D at 0x23a1c9d0348>]"
      ]
     },
     "execution_count": 2,
     "metadata": {},
     "output_type": "execute_result"
    },
    {
     "data": {
      "image/png": "[encoded data removed]",
      "text/plain": [
       "<Figure size 432x288 with 1 Axes>"
      ]
     },
     "metadata": {
      "needs_background": "light"
     },
     "output_type": "display_data"
    }
   ],
   "source": [
    "mu = 0\n",
    "std = 1\n",
    "n = 1000\n",
    "\n",
    "x = np.linspace(sc.norm.ppf(0.001), sc.norm.ppf(0.999), 100)\n",
    "\n",
    "rnd_sample_normal = sc.norm.rvs(size=n)\n",
    "\n",
    "fig, ax = plt.subplots(1,1,figsize=(6, 4))\n",
    "ax.hist(rnd_sample_normal, bins=100, density=True)\n",
    "ax.plot(x, sc.norm.pdf(x), 'r', lw=4)"
   ]
  },
  {
   "cell_type": "markdown",
   "metadata": {},
   "source": [
    "The basic idea of building a trading strategy with probabilities lies on the fact that we assume each log returns of the price to follow a particular distribution. We begin with the normal distribution to construct the foundations of the model before applying it to more reasonable distribution i.e. student distribution. The aim will be to characterize the dependence between those random variables and try understand the underlying dynamics of the log returns. In order to understand those dynamics we will make some simulation with some well-known model namely AR, and MA model with and without ARCH or GARCH components. we will compare those simulations with observable data and improve the model by analysing the descrepancies."
   ]
  },
  {
   "cell_type": "markdown",
   "metadata": {},
   "source": [
    "## The basic idea"
   ]
  },
  {
   "cell_type": "markdown",
   "metadata": {},
   "source": [
    "Let $X_{t} \\sim \\mathcal{N}(\\mu, \\sigma^2)$ be a random variable representing the log return of a price. We will first assume $\\mu = 0$ without loss of generality. From that random variable we define another random variable $S_t$ namely the sum of the next $N$ log returns from time $t$ and onwards. This r.v. is defined as follows, "
   ]
  },
  {
   "cell_type": "markdown",
   "metadata": {},
   "source": [
    "$$ S_{t;N} = \\sum\\limits_{n=0}^{N-1} X_{t+n} $$"
   ]
  },
  {
   "cell_type": "markdown",
   "metadata": {},
   "source": [
    "If we assume $X_t$ to be independent through time, then the distribution of $S_{t;N}$ would straightforwardly be $\\mathcal{N}(0, \\sum_{n=0}^{N-1} \\sigma^2)$"
   ]
  },
  {
   "cell_type": "markdown",
   "metadata": {},
   "source": [
    "However, we know from empirical evidence that $X_t$ is not independent through time, if it is not through the first moment (mean) it can be through the second moment (variance) — i.e. log returns may not be correlated (AR model) but the squared log return may be (ARCH model)."
   ]
  },
  {
   "cell_type": "markdown",
   "metadata": {},
   "source": [
    "In full generality, we first don't assume any functional form on the dependence of the $X_t$. For instance, if we create a random vector with $N$ elements $X_t$, we obtain"
   ]
  },
  {
   "cell_type": "markdown",
   "metadata": {},
   "source": [
    "$$ X_{N} = (X_0, \\cdots, X_{t+N-1})^{\\top} \\sim \\mathcal{N}_N (0, \\Sigma_X)$$"
   ]
  },
  {
   "cell_type": "markdown",
   "metadata": {},
   "source": [
    "This vector follows a multivariate normal distribution, which is fully characterized by its mean and covariance structure. This allows us to take into account the dependence between different time of the random variable $X_t$."
   ]
  },
  {
   "cell_type": "markdown",
   "metadata": {},
   "source": [
    "Given the dependence structure, we can redefine the random variable $S_{t;N}$ to follow the normal distribution $\\mathcal{N}(0, \\sum_{n=0}^{N-1}\\sum_{m}^{N-1}\\sigma_{n,m})$ where $\\sigma_{n,m}$ is the $(n,m)$ element of the covariance matrix $\\Sigma_X$. Note that the element on the diagonal — i.e. $n=m$, is the variance."
   ]
  },
  {
   "cell_type": "markdown",
   "metadata": {},
   "source": [
    "I believe that defining such a random variable $S_{t;N}$ is key for constructing a trading strategy since it allows to another important random variable $Y_{t;N,\\alpha}$ defined as follows, "
   ]
  },
  {
   "cell_type": "markdown",
   "metadata": {},
   "source": [
    "$$ Y_{t;N, \\alpha} = \\mathbb{1}_{S_{t;N} \\geq \\alpha} $$"
   ]
  },
  {
   "cell_type": "markdown",
   "metadata": {},
   "source": [
    "where $\\mathbb{1}_A$ is the indicator function that takes value $1$ if the event A is true and $0$ otherwise, $\\alpha$ is a given threshold."
   ]
  },
  {
   "cell_type": "markdown",
   "metadata": {},
   "source": [
    "This r.v. $Y_{t;N, \\alpha}$ allows us to define when we should open a position and when we should not. In other words, when the sum of the next $N$ log return is above a given threshold, we should buy the underlying asset since its price will increase in the next $N$ periods compared to now.\n"
   ]
  },
  {
   "cell_type": "markdown",
   "metadata": {},
   "source": [
    "We can also obtain the probability that the price will increase in the next $N$ periods :"
   ]
  },
  {
   "cell_type": "markdown",
   "metadata": {},
   "source": [
    "\\begin{align} \n",
    "    \\mathbb{P}(Y_{t;N,\\alpha} = 1) := \\mathbb{E}(Y_{t;N, \\alpha}) &= \\mathbb{E}(\\mathbb{1}_{S_{t;N} \\geq \\alpha})\\\\\n",
    "                                           &=  \\mathbb{P}(S_{t;N} \\geq \\alpha) \\\\\n",
    "                                           &= \\mathbb{P}(\\sum\\limits_{n=0}^{N-1} X_{t+n} \\geq \\alpha)\n",
    "\\end{align}"
   ]
  },
  {
   "cell_type": "markdown",
   "metadata": {},
   "source": [
    "### Example with Moving Average model"
   ]
  },
  {
   "cell_type": "markdown",
   "metadata": {},
   "source": [
    "Let's know consider the random variable $X_t$ to follow a MA model. For simplicity we assume the MA to be of order 1."
   ]
  },
  {
   "cell_type": "markdown",
   "metadata": {},
   "source": [
    "\\begin{align}\n",
    "    X_t = \\epsilon_t + \\theta \\epsilon_{t-1} && \\text{ where } \\epsilon_t \\sim GWN(0, \\sigma_\\epsilon^2)\n",
    "\\end{align}"
   ]
  },
  {
   "cell_type": "markdown",
   "metadata": {},
   "source": [
    "The covariance structure between successive random variables is as follows :"
   ]
  },
  {
   "cell_type": "markdown",
   "metadata": {},
   "source": [
    "\\begin{align}\n",
    "    \\mathbb{C}ov(X_t, X_{t+n}) = \n",
    "        \\begin{cases}\n",
    "            (1 + \\theta^2) \\sigma_\\epsilon^2 & \\text{ if } n = 0\\\\\n",
    "            \\theta \\sigma_\\epsilon^2 & \\text{ if } n = 1\\\\\n",
    "            0 & \\text{ otherwise }\n",
    "        \\end{cases}\n",
    "\\end{align}"
   ]
  },
  {
   "cell_type": "markdown",
   "metadata": {},
   "source": [
    "We thus get a more precise characterization of $S_{t;N} \\sim \\mathcal{N}\\Big(0, \\sigma_S^2\\Big)$ where $\\sigma_S^2 = \\sigma_\\epsilon^2 \\big[ N\\theta^2 + 2(N-1)\\theta + N \\big]$"
   ]
  },
  {
   "cell_type": "markdown",
   "metadata": {},
   "source": [
    "Let construct a function allowing us to get a sample from a MA process of order 1. Note that this function is an infinite generator that will allow to get one unique sample when we call the function."
   ]
  },
  {
   "cell_type": "code",
   "execution_count": 3,
   "metadata": {},
   "outputs": [],
   "source": [
    "# The first lines of a process are used to initialise the model. \n",
    "# Here with a MA(1) we only need the previous obs. (which we don't have if we just started the process)\n",
    "def MA(theta:np.float64):\n",
    "    previous_innov = np.random.normal(0,1)\n",
    "    \n",
    "    while True:\n",
    "        current_innov = np.random.normal(0,1)\n",
    "        yield current_innov + theta * previous_innov\n",
    "        previous_innov = current_innov"
   ]
  },
  {
   "cell_type": "markdown",
   "metadata": {},
   "source": [
    "To get a sample of $T$ points we use another function. This latter function could also be reused when dealing with more complex models."
   ]
  },
  {
   "cell_type": "code",
   "execution_count": 4,
   "metadata": {},
   "outputs": [],
   "source": [
    "def sample_process(process, params:np.ndarray, n:int):\n",
    "    sample = np.empty((n, ), dtype=np.float64)\n",
    "    process = process(*params)\n",
    "    \n",
    "    for i in range(n):\n",
    "        sample[i] = next(process)\n",
    "    \n",
    "    return sample"
   ]
  },
  {
   "cell_type": "markdown",
   "metadata": {},
   "source": [
    "Take two sample from two different MA process."
   ]
  },
  {
   "cell_type": "code",
   "execution_count": 5,
   "metadata": {},
   "outputs": [],
   "source": [
    "theta1 = 0.7\n",
    "theta2 = -0.5\n",
    "\n",
    "sample1 = sample_process(MA, [theta1], 10000)\n",
    "sample2 = sample_process(MA, [theta2], 10000)"
   ]
  },
  {
   "cell_type": "markdown",
   "metadata": {},
   "source": [
    "Let's create a function that will compute the random variable $S_{t;N}$ given an sample array and an order $N$."
   ]
  },
  {
   "cell_type": "code",
   "execution_count": 6,
   "metadata": {},
   "outputs": [],
   "source": [
    "# Rolling sum with N terms\n",
    "def S_sum(sample_array:np.ndarray, N:int):\n",
    "    sample_sum = np.cumsum(sample_array)\n",
    "    return sample_sum[N:] - sample_sum[:-N]"
   ]
  },
  {
   "cell_type": "code",
   "execution_count": 196,
   "metadata": {},
   "outputs": [],
   "source": [
    "def S_var(N:int, theta:np.float64):\n",
    "    return N*(theta**2) + 2*(N-1)*theta + N"
   ]
  },
  {
   "cell_type": "code",
   "execution_count": 179,
   "metadata": {},
   "outputs": [
    {
     "data": {
      "text/plain": [
       "[<matplotlib.lines.Line2D at 0x23a1fdf8fc8>]"
      ]
     },
     "execution_count": 179,
     "metadata": {},
     "output_type": "execute_result"
    },
    {
     "data": {
      "image/png": "[encoded data removed]",
      "text/plain": [
       "<Figure size 576x144 with 2 Axes>"
      ]
     },
     "metadata": {
      "needs_background": "light"
     },
     "output_type": "display_data"
    }
   ],
   "source": [
    "N = 5\n",
    "S1 = S_sum(sample1, N)\n",
    "S2 = S_sum(sample2, N)\n",
    "\n",
    "fig, ax = plt.subplots(1, 2, figsize=(8, 2), sharex=True, sharey=True)\n",
    "ax = np.ravel(ax)\n",
    "_, _, _ = ax[0].hist(S1, bins=100, density=True)\n",
    "_, _, _ = ax[1].hist(S2, bins=100, density=True)\n",
    "\n",
    "\n",
    "theor_sigma1 = np.sqrt(S_var(N, theta1))\n",
    "theor_sigma2 = np.sqrt(S_var(N, theta2))\n",
    "x = np.linspace(sc.norm.ppf(0.001, 0, theor_sigma1), sc.norm.ppf(0.999, 0, theor_sigma1), 200)\n",
    "ax[0].plot(x, sc.norm.pdf(x, 0, theor_sigma1), 'r')\n",
    "ax[1].plot(x, sc.norm.pdf(x, 0, theor_sigma2), 'r')"
   ]
  },
  {
   "cell_type": "markdown",
   "metadata": {},
   "source": [
    "We can see that the theoretical distribution of $S_{t;N}$ is correct according to the simulation. \n",
    "\n",
    "Note also that when the more positive the parameter of the MA process, the larger the variance of the sum. Conversely, the more negative the coefficient, the narrower the distribution."
   ]
  },
  {
   "cell_type": "markdown",
   "metadata": {},
   "source": [
    "From there, we can define the Bernoulli process $Y_{t;N, \\alpha}$ by choosing a threshold $\\alpha$.\n",
    "For instance, choose $\\alpha$ such that 10% of the observations are greater then $\\alpha$. In order words, choose $\\alpha$ to be the 0.9 quantile of the normal distribution. This leads $Y_{t;N, \\alpha}$ to follow a Bernoulli process with $p = 0.1$."
   ]
  },
  {
   "cell_type": "code",
   "execution_count": 197,
   "metadata": {},
   "outputs": [],
   "source": [
    "def getThreshold(N:int, theta:np.float64, percentile:np.float64):\n",
    "    std = np.sqrt(S_var(N, theta))\n",
    "    return sc.norm.ppf(percentile, 0, std)"
   ]
  },
  {
   "cell_type": "code",
   "execution_count": 184,
   "metadata": {},
   "outputs": [
    {
     "data": {
      "text/plain": [
       "4.6295773152313915"
      ]
     },
     "execution_count": 184,
     "metadata": {},
     "output_type": "execute_result"
    }
   ],
   "source": [
    "thresh = getThreshold(N, theta1, 0.9)\n",
    "thresh"
   ]
  },
  {
   "cell_type": "markdown",
   "metadata": {},
   "source": [
    "## Conditional distributions of the $Y_{t;N, \\alpha}$ process"
   ]
  },
  {
   "cell_type": "markdown",
   "metadata": {},
   "source": [
    "If it is believe that previous observations are informative for the current and future ones, conditioning on them could lead to a better adjustments of the parameter of the model.\n",
    "\n",
    "For instance, we can get a conditional distribution for the parameter $p$ of the Bernoulli process $Y_{t;N, \\alpha}$."
   ]
  },
  {
   "cell_type": "markdown",
   "metadata": {},
   "source": [
    "\\begin{align}\n",
    "    \\mathbb{P} \\big(Y_{t;N, \\alpha} = 1 | Y_{t-1;N, \\alpha} = 1 \\big) &= \\mathbb{P}\\big(S_{t;N} \\geq \\alpha \\: \\big| \\: S_{t-1;N} \\geq \\alpha \\big)\\\\\n",
    "                                                &= \\frac{\\mathbb{P}\\big(S_{t;N} \\geq \\alpha \\: , \\: S_{t-1;N} \\geq \\alpha \\big)}{\\mathbb{P}\\big(S_{t-1;N} \\geq \\alpha \\big)} && \\text{(def. of conditional distrib.)}\n",
    "\\end{align}"
   ]
  },
  {
   "cell_type": "markdown",
   "metadata": {},
   "source": [
    "We only need to find an expression for the multivariate distribution on the numerator.\n",
    "\n",
    "We know that this multivariate distribution is normal (since it comes from two normal). We are also able to compute the covariance between $S_{t;N}$ and $S_{t-1;N}$ given the definition of the r.v. We thus have all the ingredients to express the multivariate distribution"
   ]
  },
  {
   "cell_type": "markdown",
   "metadata": {},
   "source": [
    "By using the definition of the r.v. $S_{t;N}$ and the matrix representation of the double sum, we obtain, "
   ]
  },
  {
   "cell_type": "markdown",
   "metadata": {},
   "source": [
    "\\begin{align}\n",
    "    \\sigma_{SS}:=\\mathbb{E}\\big( S_{t;N}S_{t-1, N} \\big) &= \\sum\\limits_{n=0}^{N-1} \\sum\\limits_{m=0}^{N-1} \\mathbb{E}(X_{t+n}X_{t+m-1})\\\\\n",
    "                                            &= \\sum\\limits_{n=0}^{N-2} \\sum\\limits_{m=0}^{N-2} \\mathbb{E}(X_{t+n}X_{t+m}) + \\sum\\limits_{n=0}^{N-1}\\mathbb{E}(X_{t-1}X_{t+n}) + \\sum\\limits_{m=0}^{N-1} \\mathbb{E}(X_{t+N-1}X_{t+n-1}) - \\mathbb{E}(X_{t+N-1}X_{t-1})\n",
    "\\end{align}"
   ]
  },
  {
   "cell_type": "markdown",
   "metadata": {},
   "source": [
    "We then have $(S_{t;N}, S_{t-1;N})^\\top \\sim \\mathcal{N}_2\\left( 0, \\begin{pmatrix} \\sigma_S^2 & \\sigma_{SS} \\\\  \\sigma_{SS} & \\sigma_S^2 \\end{pmatrix} \\right)$."
   ]
  },
  {
   "cell_type": "markdown",
   "metadata": {},
   "source": [
    "### Example with MA model"
   ]
  },
  {
   "cell_type": "markdown",
   "metadata": {},
   "source": [
    "The covariance betwee $S_{t;N}$ and $S_{t-1;N}$ has a clean formula in the case of the MA(1) given by,"
   ]
  },
  {
   "cell_type": "markdown",
   "metadata": {},
   "source": [
    "$$ \\mathbb{E}\\big( S_{t;N}S_{t-1,N} \\big) = (N-1)(\\theta +1)^2 \\sigma_{\\epsilon}^2 $$"
   ]
  },
  {
   "cell_type": "markdown",
   "metadata": {},
   "source": [
    "Now we need the probability that the multivariate normal is greater than our threshold $\\alpha$. However even in the case of the 2-dimensional multivariate normal, it is not an easy task. Therefore we will use Monte Carlo methods to get an estimate of the probability. We could have used build-in methods of scipy, however we would not avoid the Monte Carlo simulation for more general probability distributions."
   ]
  },
  {
   "cell_type": "code",
   "execution_count": 168,
   "metadata": {},
   "outputs": [],
   "source": [
    "# args = (mean:np.ndarray, cov:np.ndarray)\n",
    "@nb.njit()\n",
    "def multivariate_normal(x:np.ndarray, *args):\n",
    "    mean, cov = args\n",
    "    norm_const = 2.0 * np.pi * np.sqrt(np.linalg.det(cov))\n",
    "    quadratic = (np.dot((x - mean.reshape(-1,1)).T, np.linalg.inv(cov)) * (x - mean.reshape(-1,1)).T).sum(axis=-1)\n",
    "    exp = np.exp(-0.5 * quadratic)\n",
    "    return exp / norm_const"
   ]
  },
  {
   "cell_type": "code",
   "execution_count": 162,
   "metadata": {},
   "outputs": [],
   "source": [
    "# \"func\" must be capable of receiving an array (#coords, n_sample) (to make use of numpy vectorization)\n",
    "def Integrate_Carlo(func, n:np.int64, a:np.ndarray, b:np.ndarray, *args):\n",
    "    x = np.empty((len(a),n), dtype=np.float64)\n",
    "    for i in range(len(a)):\n",
    "        x[i, :] = np.random.uniform(a[i], b[i], n)\n",
    "\n",
    "    return np.mean(func(x, *args)) * np.prod(b-a)"
   ]
  },
  {
   "cell_type": "markdown",
   "metadata": {},
   "source": [
    "Now we can estimate an interval on a multivariate normal distribution. "
   ]
  },
  {
   "cell_type": "code",
   "execution_count": 169,
   "metadata": {},
   "outputs": [
    {
     "name": "stderr",
     "output_type": "stream",
     "text": [
      "<ipython-input-168-20192a0876dc>:6: NumbaPerformanceWarning: \u001b[1m\u001b[1mnp.dot() is faster on contiguous arrays, called on (array(float64, 2d, F), array(float64, 2d, A))\u001b[0m\u001b[0m\n",
      "  quadratic = (np.dot((x - mean.reshape(-1,1)).T, np.linalg.inv(cov)) * (x - mean.reshape(-1,1)).T).sum(axis=-1)\n"
     ]
    },
    {
     "data": {
      "text/plain": [
       "0.06650093715353043"
      ]
     },
     "execution_count": 169,
     "metadata": {},
     "output_type": "execute_result"
    }
   ],
   "source": [
    "a = np.array([thresh,thresh], dtype=np.float64)\n",
    "b = np.array([thresh*10.,thresh*10.], dtype=np.float64)\n",
    "cov_S = (N-1)*(theta1+1)**2\n",
    "\n",
    "mean = np.array([0.,0.], dtype=np.float64)\n",
    "cov = np.array([np.array([theor_sigma1**2,cov_S]),np.array([cov_S,theor_sigma1**2])], dtype=np.float64)\n",
    "\n",
    "joint1 = Integrate_Carlo(multivariate_normal, 10000000, a, b, mean, cov)\n",
    "joint1"
   ]
  },
  {
   "cell_type": "markdown",
   "metadata": {},
   "source": [
    "Finally we can estimate the conditional probability above."
   ]
  },
  {
   "cell_type": "code",
   "execution_count": 12,
   "metadata": {},
   "outputs": [
    {
     "data": {
      "text/plain": [
       "0.6677695239422738"
      ]
     },
     "execution_count": 12,
     "metadata": {},
     "output_type": "execute_result"
    }
   ],
   "source": [
    "joint1 / (1.0 - sc.norm.cdf(thresh, 0, theor_sigma1))"
   ]
  },
  {
   "cell_type": "markdown",
   "metadata": {},
   "source": [
    "From there, we can define a markov chain with all the possible transitions given the last state. "
   ]
  },
  {
   "cell_type": "markdown",
   "metadata": {},
   "source": [
    "For instance, if the parameters are $N=5$, $tresh = 90th$ percentile and $\\theta = 0.7$ we get the following markov chain :"
   ]
  },
  {
   "cell_type": "markdown",
   "metadata": {},
   "source": [
    "\\begin{align}\n",
    "    P_{y_t, y_{t-1}} = \n",
    "        \\begin{pmatrix}\n",
    "            0.9635 & 0.0365 \\\\\n",
    "            0.3318   & 0.6682\n",
    "        \\end{pmatrix}\n",
    "\\end{align}"
   ]
  },
  {
   "cell_type": "markdown",
   "metadata": {},
   "source": [
    "We can clearly see that the markov chain stays most of the time in the $(Y_t = 0 | Y_{t-1} = 0)$ state meaning that trading does not occur frequently, which may be reassuring if we consider the transaction costs. However once a trade is initiated there is a better probability to keep trading, at least better than fair odds. In other words, once a position is opened there is a 33% probability to close the position the next period."
   ]
  },
  {
   "cell_type": "markdown",
   "metadata": {},
   "source": [
    "We can get the stationary distribution this markov chain by exponentiating the matrix by a large number. This stationary distribution gives us the probability to be at one given state at any time, i.e. unconditionally of the previous state. Observe that the probability of being at the state $Y_{t;N,\\alpha} = 1$ is determined by the threshold namely the 90th percentile here. Also note that with the markov chain we obtain a decomposition of the initial probability for the r.v. $Y_{t;N,\\alpha}$"
   ]
  },
  {
   "cell_type": "code",
   "execution_count": 175,
   "metadata": {},
   "outputs": [
    {
     "data": {
      "text/plain": [
       "array([[0.91086487, 0.08913513],\n",
       "       [0.81027497, 0.18972503]])"
      ]
     },
     "execution_count": 175,
     "metadata": {},
     "output_type": "execute_result"
    }
   ],
   "source": [
    "np.linalg.matrix_power(np.array([[0.9635, 0.0365],[0.3318, 0.6682]]), 5)"
   ]
  },
  {
   "cell_type": "markdown",
   "metadata": {},
   "source": [
    "Note that given the definition of the random variable $S_{t;N}$ the current state does not only depend on the previous state but also on the $N$ last states. This would then give us a 'N-th' order markov chain. We will explore those extra dependencies later."
   ]
  },
  {
   "cell_type": "markdown",
   "metadata": {},
   "source": [
    "Let's get a function that gives us the markov chain when given the parameters"
   ]
  },
  {
   "cell_type": "code",
   "execution_count": 208,
   "metadata": {},
   "outputs": [],
   "source": [
    "# 'percentile' parameter is the percentile of the r.v. S used for the threshold\n",
    "def Markov_MA(N:int, theta:np.float64, percentile:np.float64):\n",
    "    thresh = getThreshold(N, theta, percentile)\n",
    "    var = S_var(N, theta)\n",
    "    cov_S = (N-1)*(theta+1)**2\n",
    "    \n",
    "    mean = np.array([0.,0.], dtype=np.float64)\n",
    "    cov = np.array([np.array([var,cov_S]),np.array([cov_S,var])], dtype=np.float64)\n",
    "    \n",
    "    a = np.array([thresh,thresh], dtype=np.float64)\n",
    "    b = np.array([thresh*10.,thresh*10.], dtype=np.float64)\n",
    "    joint11 = Integrate_Carlo(multivariate_normal, 10000000, a, b, mean, cov)\n",
    "    \n",
    "    a = np.array([-thresh*10.,-thresh*10.], dtype=np.float64)\n",
    "    b = np.array([thresh,thresh], dtype=np.float64)\n",
    "    joint00 = Integrate_Carlo(multivariate_normal, 10000000, a, b, mean, cov)\n",
    "    \n",
    "    condi00 = joint00 / sc.norm.cdf(thresh, 0, np.sqrt(var))\n",
    "    condi11 = joint11 / (1.0 - sc.norm.cdf(thresh, 0, np.sqrt(var)))\n",
    "    \n",
    "    return np.array([[condi00, 1.0-condi00], [1.0-condi11, condi11]], dtype=np.float64)"
   ]
  },
  {
   "cell_type": "code",
   "execution_count": 213,
   "metadata": {},
   "outputs": [
    {
     "data": {
      "text/plain": [
       "array([[0.95050276, 0.04949724],\n",
       "       [0.43753876, 0.56246124]])"
      ]
     },
     "execution_count": 213,
     "metadata": {},
     "output_type": "execute_result"
    }
   ],
   "source": [
    "Markov_MA(5, 0.0, 0.9)"
   ]
  },
  {
   "cell_type": "markdown",
   "metadata": {},
   "source": [
    "## Trading based on the Markov Chain"
   ]
  },
  {
   "cell_type": "markdown",
   "metadata": {},
   "source": [
    "Now that we are able to create simple markov chain with an MA(1) model, we will try to develop a simple trading strategy around it.\n",
    "\n",
    "The strategy will consist in observing the last $N + 1$ returns and take a decision based on them. Note that we take $N + 1$ previous observations to take a decision at time $t$ since the random variable $S_{t;N}$ is composed of a sum of $N$ r.v. $X_t$. The $N$ last r.v. $S_{t;N}$ are not observed since there are some terms of the sum that are still not observed at time $t$. Therefore we must take $N + 1$ observations and try to infer what is the probability that the current $S_{t;N}$ is above the threshold. "
   ]
  },
  {
   "cell_type": "code",
   "execution_count": 223,
   "metadata": {},
   "outputs": [],
   "source": [
    "# When we buy we keep the position during N periods. However it is possible to have multiple position at the same time.\n",
    "# Therefore we need to add those overlapping position. But each position must have its own lifespan.\n",
    "# 'Position' argument must be an array with 1 when we buy and 0 otherwise\n",
    "def getOverlappingPosition(N:int, position:np.ndarray):\n",
    "    overlappingPosition = np.zeros((len(position)+N,), dtype=np.float64)\n",
    "    for t in range(len(position)):\n",
    "        if position[t] == 1.0:\n",
    "            overlappingPosition[t:t+N] += 1.0\n",
    "    return overlappingPosition[:-N]"
   ]
  },
  {
   "cell_type": "code",
   "execution_count": 227,
   "metadata": {},
   "outputs": [],
   "source": [
    "def getEquityCurve(N:int, position:np.ndarray, return_hist:np.ndarray):\n",
    "    overlappingPosition = getOverlappingPosition(N, position)\n",
    "    return overlappingPosition * return_hist"
   ]
  },
  {
   "cell_type": "code",
   "execution_count": 258,
   "metadata": {},
   "outputs": [
    {
     "name": "stdout",
     "output_type": "stream",
     "text": [
      "[[0.90195562 0.09804438]\n",
      " [0.90150518 0.09849482]]\n"
     ]
    },
    {
     "data": {
      "text/plain": [
       "[<matplotlib.lines.Line2D at 0x23a383ea2c8>]"
      ]
     },
     "execution_count": 258,
     "metadata": {},
     "output_type": "execute_result"
    },
    {
     "data": {
      "image/png": "[encoded data removed]",
      "text/plain": [
       "<Figure size 864x576 with 3 Axes>"
      ]
     },
     "metadata": {
      "needs_background": "light"
     },
     "output_type": "display_data"
    }
   ],
   "source": [
    "def trading_process(length:int, N:int, theta:np.float64, percentile:np.float64):\n",
    "    thresh = getThreshold(N, theta, percentile)\n",
    "    price_process = MA(theta)\n",
    "    markov = np.linalg.matrix_power(Markov_MA(N, theta, percentile), N)\n",
    "    print(markov)\n",
    "    \n",
    "    return_hist = np.empty((length,), dtype=np.float64)\n",
    "    S_hist = np.empty((length,), dtype=np.float64)\n",
    "    Y_hist = np.empty((length,), dtype=np.float64)\n",
    "    pos_hist = np.empty((length,), dtype=np.float64)\n",
    "    \n",
    "    for t in range(length):\n",
    "        return_hist[t] = next(price_process)\n",
    "        if t < N:\n",
    "            S_hist[t] = 0.0\n",
    "            Y_hist[t] = 0.0\n",
    "            pos_hist[t] = 0.0\n",
    "            continue\n",
    "        \n",
    "        S_hist[t] = np.sum(return_hist[t-N-1:t]) # Valeur de la r.v. S en 't-N', pas l'actuel donc\n",
    "        Y_hist[t] = (S_hist[t] >= thresh)*1.0 # Valeur de Y il y a N period, pas l'actuel donc\n",
    "        \n",
    "#         p = markov[int(Y_hist[t]), 1] \n",
    "        p = markov[1,1] if Y_hist[t] == 1.0 else markov[0,1] # Choose the right proba of winning today given the r.v. Y, N periods ago.\n",
    "        \n",
    "        \n",
    "        pos_hist[t] = (np.random.uniform(0,1) <= p)*1.0\n",
    "        \n",
    "    return return_hist, pos_hist, Y_hist\n",
    "\n",
    "\n",
    "length = 100000\n",
    "N = 5\n",
    "theta = -0.5\n",
    "percentile = 0.9\n",
    "\n",
    "return_hist, pos_hist, y_hist = trading_process(length, N, theta, percentile)\n",
    "\n",
    "equityCurve = getEquityCurve(N, pos_hist, return_hist)\n",
    "\n",
    "fig, ax = plt.subplots(3,1,figsize=(12, 8))\n",
    "ax = np.ravel(ax)\n",
    "ax[0].plot(getOverlappingPosition(N, pos_hist))\n",
    "ax[1].plot(equityCurve)\n",
    "ax[2].plot(np.cumsum(equityCurve))"
   ]
  },
  {
   "cell_type": "markdown",
   "metadata": {},
   "source": [
    "## Determine the optimal parameter : $N$"
   ]
  },
  {
   "cell_type": "markdown",
   "metadata": {},
   "source": [
    "In order to find an optimal parameter we need a criterion. What we know upto now about the parameter $N$ is that it is the basis for determining the random variable $Y_t$. It is directly related to the variance and covariances of the random variables $Y_{t;N,\\alpha}$. Note that we cannot let $N$ tend to $\\infty$ since it will imply infinite variance and covariances (which is not permitted in Hilbert space)."
   ]
  },
  {
   "cell_type": "markdown",
   "metadata": {},
   "source": [
    "We believe that the optimal $N$ is naturally determined by the trade frequency. A lower threshold will imply a higher trading frequency. Conversely, a higher threshold will imply a lower trade frequency."
   ]
  },
  {
   "cell_type": "markdown",
   "metadata": {},
   "source": [
    "$N$ must also be dependent on the length of trends on a given stock. Since longer trends will imply higher $N$. It is common sense to believe that trends are finite, hence $N$ also is."
   ]
  },
  {
   "cell_type": "code",
   "execution_count": 17,
   "metadata": {},
   "outputs": [
    {
     "data": {
      "text/plain": [
       "[<matplotlib.lines.Line2D at 0x23a1dde5688>]"
      ]
     },
     "execution_count": 17,
     "metadata": {},
     "output_type": "execute_result"
    },
    {
     "data": {
      "image/png": "[encoded data removed]",
      "text/plain": [
       "<Figure size 432x288 with 1 Axes>"
      ]
     },
     "metadata": {
      "needs_background": "light"
     },
     "output_type": "display_data"
    }
   ],
   "source": [
    "N2 = 20\n",
    "sample_path = sample_process(MA, [0.9], 10000)\n",
    "plt.plot(np.cumsum(sample_path))\n",
    "# S = S_sum(sample_path, N)\n",
    "# _, _, _ = plt.hist(S, bins=100, density=True)"
   ]
  },
  {
   "cell_type": "markdown",
   "metadata": {},
   "source": [
    "Unconditionally my probability of winning is 10% (when the threshold is set to the 90th percentile) and my average winning is the mean of the truncated normal from the 90th percentile to $\\infty$. Analogously when I lose."
   ]
  },
  {
   "cell_type": "markdown",
   "metadata": {},
   "source": [
    "Questions : conditionally on the fact that I won last period, what is my avg winning overall ? per period ? (same for when conditional on losing)."
   ]
  },
  {
   "cell_type": "markdown",
   "metadata": {},
   "source": [
    "Question : Given that I have won last period, if I win today, how much can I expect to win ? to lose ? (and if I have lost last period ?). We believe we can answer that question with the expectation of truncated multivariate distribution (via monte carlo integration)"
   ]
  },
  {
   "cell_type": "code",
   "execution_count": null,
   "metadata": {},
   "outputs": [],
   "source": []
  },
  {
   "cell_type": "code",
   "execution_count": null,
   "metadata": {},
   "outputs": [],
   "source": []
  },
  {
   "cell_type": "code",
   "execution_count": null,
   "metadata": {},
   "outputs": [],
   "source": []
  }
 ],
 "metadata": {
  "kernelspec": {
   "display_name": "Python 3",
   "language": "python",
   "name": "python3"
  },
  "language_info": {
   "codemirror_mode": {
    "name": "ipython",
    "version": 3
   },
   "file_extension": ".py",
   "mimetype": "text/x-python",
   "name": "python",
   "nbconvert_exporter": "python",
   "pygments_lexer": "ipython3",
   "version": "3.7.6"
  }
 },
 "nbformat": 4,
 "nbformat_minor": 4
}
